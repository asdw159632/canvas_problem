{
 "cells": [
  {
   "cell_type": "code",
   "execution_count": 1,
   "metadata": {},
   "outputs": [],
   "source": [
    "import ROOT\n",
    "import math\n",
    "from ctypes import c_double\n",
    "import numpy as np\n",
    "import pandas as pd\n",
    "from IPython.display import clear_output\n",
    "\n",
    "from ipytools import *\n",
    "\n",
    "def draw_phaseshift(timedata, xtit=\"E_{c.m.} (MeV)\", ytit=\"#delta_{0} (degree)\", yrange=[],xrange=[],legshow=True,grid=True,ticks=True):\n",
    " c1.cd()\n",
    " if grid:\n",
    "  ROOT.gPad.SetGrid()\n",
    " if ticks:\n",
    "  ROOT.gPad.SetTicks()\n",
    "\n",
    " setcolors(timedata.mg,color,Alpha=timedata.Alpha)\n",
    " timedata.resetLeg()\n",
    "\n",
    " mg=timedata.mg.Clone()\n",
    " #mg=timedata.getiGraph(5)\n",
    " leg=timedata.leg.Clone()\n",
    " mg.GetYaxis().SetTitle(ytit)\n",
    " mg.GetYaxis().SetTitleOffset(1.)\n",
    " mg.GetYaxis().SetTitleSize(0.06)\n",
    " mg.GetYaxis().SetLabelSize(0.06)\n",
    " mg.GetYaxis().SetNdivisions(505)\n",
    " if len(yrange) == 2:\n",
    "  mg.GetYaxis().SetRangeUser(yrange[0],yrange[1])\n",
    " mg.GetXaxis().SetTitle(xtit)\n",
    " mg.GetXaxis().SetTitleSize(0.06)\n",
    " mg.GetXaxis().SetLabelSize(0.06)\n",
    " mg.GetXaxis().SetTitleOffset(1.)\n",
    " if len(xrange) == 2:\n",
    "  mg.GetXaxis().SetRangeUser(xrange[0],xrange[1])\n",
    " else:\n",
    "  mg.GetXaxis().SetRangeUser(0,50)\n",
    " if (timedata.drawoption==\"AC3\"):\n",
    "  mg.Draw(\"ACX\")\n",
    "  mg.Draw(\"3\")\n",
    " else:\n",
    "  mg.Draw(str(timedata.drawoption))\n",
    " if legshow:\n",
    "  leg.Draw(\"same\")\n",
    " c1.Draw()"
   ]
  },
  {
   "cell_type": "code",
   "execution_count": 3,
   "metadata": {},
   "outputs": [
    {
     "name": "stdout",
     "output_type": "stream",
     "text": [
      "This cell has run for  2  times\n"
     ]
    }
   ],
   "source": [
    "#in this cell you run draw_phaseshift(...) for first time, the canvas dispaly well\n",
    "# when I run this cell again, the canvas disappear\n",
    "\n",
    "%jsroot off\n",
    "tstart=17\n",
    "tend=17\n",
    "t_list=[17]\n",
    "spin=2\n",
    "sub=\"_misnered\"\n",
    "labels=[\"a\", \"b\"]\n",
    "\n",
    "timedata=ROOT.timedata(f\"output-for-test/pot_{spin*2+1}s{spin}_cen_FconfNOmgccc_t%03d_B01_1600conf_080bin{sub}_observables.root\",t_list,\"phase_shift_nocoul\",1/math.sqrt(2*m_red),180/3.1415926535897, \"AC3\")\n",
    "timedata.setFormula(\"x*x\")\n",
    "#timedata.leg.SetX1(0.63)\n",
    "timedata.leg.SetY1(0.2)\n",
    "#timedata.leg.SetX2(0.93)\n",
    "timedata.leg.SetY2(0.5)\n",
    "draw_phaseshift(timedata,yrange=[0,33],legshow=False)\n",
    "leg2 = ROOT.TLegend(timedata.leg.GetX1(), timedata.leg.GetY1(), timedata.leg.GetX2(), timedata.leg.GetY2())\n",
    "t_list_index=[[i,t_list[i]] for i,t in enumerate(t_list)]\n",
    "for i,t in sorted(t_list_index, key=lambda x: x[1], reverse=True):\n",
    "  leg2.AddEntry(timedata.mg.GetListOfGraphs().At(i), f\"t/a = {t}\", \"fl\")\n",
    "if spin==1:\n",
    "  leg2.Draw(\"same\")\n",
    "#timedata.mg.Draw(\"p same\")\n",
    "\n",
    "#add a label\n",
    "Label=ROOT.TLatex(0.17,0.78, f\"({labels[spin-1]}) {{}}^{{{2*spin+1}}}S_{{{spin}}}\")\n",
    "Label.SetTextSize(0.06)\n",
    "Label.SetNDC()\n",
    "Label.Draw()\n",
    "cell2_runtime+=1\n",
    "\n",
    "print(\"This cell has run for \",cell2_runtime, \" times\")"
   ]
  },
  {
   "cell_type": "code",
   "execution_count": 4,
   "metadata": {},
   "outputs": [],
   "source": [
    "# if I run this drawing function again, the canvas will not show\n",
    "draw_phaseshift(timedata,yrange=[0,33],legshow=False)"
   ]
  },
  {
   "cell_type": "code",
   "execution_count": 5,
   "metadata": {},
   "outputs": [],
   "source": [
    "# I changed the drawing object and run this cell, no canvas appears.\n",
    "spin=1\n",
    "timedata2=ROOT.timedata(f\"output-for-test/pot_{spin*2+1}s{spin}_cen_FconfNOmgccc_t%03d_B01_1600conf_080bin{sub}_observables.root\",t_list,\"phase_shift_nocoul\",1/math.sqrt(2*m_red),180/3.1415926535897, \"AC3\")\n",
    "draw_phaseshift(timedata2,yrange=[0,33],legshow=False)\n",
    "#add a label\n",
    "Label=ROOT.TLatex(0.17,0.78, \"with timedata2\")\n",
    "Label.SetTextSize(0.06)\n",
    "Label.SetNDC()\n",
    "Label.Draw()\n",
    "c1.Draw()"
   ]
  },
  {
   "cell_type": "code",
   "execution_count": 6,
   "metadata": {},
   "outputs": [
    {
     "data": {
      "image/png": "[encoded data removed]",
      "text/plain": [
       "<IPython.core.display.Image object>"
      ]
     },
     "metadata": {},
     "output_type": "display_data"
    }
   ],
   "source": [
    "#if the cell which have c1.Draw() and not change axis ranges, the canvas shows well\n",
    "# no matter how many times you run it, canvas still displays well\n",
    "c1.Draw()"
   ]
  },
  {
   "cell_type": "code",
   "execution_count": 7,
   "metadata": {},
   "outputs": [],
   "source": [
    "# if you run this cell the canvas above will show with this cell's figure\n",
    "draw_phaseshift(timedata,yrange=[0,33],legshow=False)\n",
    "#add a label\n",
    "Label=ROOT.TLatex(0.17,0.78, \"with timedata\")\n",
    "Label.SetTextSize(0.06)\n",
    "Label.SetNDC()\n",
    "Label.Draw()"
   ]
  },
  {
   "cell_type": "code",
   "execution_count": 9,
   "metadata": {},
   "outputs": [
    {
     "name": "stdout",
     "output_type": "stream",
     "text": [
      "OBJ: TList\tCanvases\tDoubly linked list : 0\n",
      " Canvas Name=c Title=c Option=\n",
      "  TCanvas fXlowNDC=0 fYlowNDC=0 fWNDC=1 fHNDC=1 Name= c Title= c Option=\n",
      "   OBJ: TList\tTList\tDoubly linked list : 0\n",
      "    TFrame  X1= -2.410596 Y1=0.000000 X2=50.846663 Y2=33.000000\n",
      "    OBJ: TMultiGraph\toutput-for-test/pot_5s2_cen_FconfNOmgccc_t%03d_B01_1600conf_080bin_misnered_observables.root_phase_shift_nocoul_mg_timedata\t : 0 at: 0x631a95d9c810\n",
      "    OBJ: TMultiGraph\toutput-for-test/pot_5s2_cen_FconfNOmgccc_t%03d_B01_1600conf_080bin_misnered_observables.root_phase_shift_nocoul_mg_timedata\t : 0 at: 0x631a95d9c810\n",
      "    Text  X=0.170000 Y=0.780000 Text=with timedata\n",
      " Canvas Name=c3 Title=c3 Option=\n",
      "  TCanvas fXlowNDC=0 fYlowNDC=0 fWNDC=1 fHNDC=1 Name= c3 Title= c3 Option=\n",
      "   OBJ: TList\tTList\tDoubly linked list : 0\n",
      " Canvas Name=c2 Title=c2 Option=\n",
      "  TCanvas fXlowNDC=0 fYlowNDC=0 fWNDC=1 fHNDC=1 Name= c2 Title= c2 Option=\n",
      "   OBJ: TList\tTList\tDoubly linked list : 0\n",
      "    TPad fXlowNDC=0.01 fYlowNDC=0.01 fWNDC=0.48 fHNDC=0.98 Name= c2_1 Title= c2_1 Option=\n",
      "     OBJ: TList\tTList\tDoubly linked list : 0\n",
      "    TPad fXlowNDC=0.51 fYlowNDC=0.01 fWNDC=0.48 fHNDC=0.98 Name= c2_2 Title= c2_2 Option=\n",
      "     OBJ: TList\tTList\tDoubly linked list : 0\n"
     ]
    }
   ],
   "source": [
    "#and we can find c1 with name \"c\" in gROOT, and there are objects drawing on it.\n",
    "ROOT.gROOT.GetListOfCanvases().ls()"
   ]
  },
  {
   "cell_type": "code",
   "execution_count": null,
   "metadata": {},
   "outputs": [],
   "source": [
    "tmg=timedata.mg.Clone()\n",
    "#f=c1.DrawFrame(0.,0.,50.,33.)\n",
    "tmg.Draw(\"cx\")\n",
    "c1.Draw()"
   ]
  },
  {
   "cell_type": "code",
   "execution_count": null,
   "metadata": {},
   "outputs": [],
   "source": [
    "tmg=timedata.mg.Clone()\n",
    "f=c1.DrawFrame(0.,0.,50.,33.)\n",
    "tmg.Draw(\"cx\")\n",
    "c1.Draw()"
   ]
  }
 ],
 "metadata": {
  "kernelspec": {
   "display_name": "Python 3",
   "language": "python",
   "name": "python3"
  },
  "language_info": {
   "codemirror_mode": {
    "name": "ipython",
    "version": 3
   },
   "file_extension": ".py",
   "mimetype": "text/x-python",
   "name": "python",
   "nbconvert_exporter": "python",
   "pygments_lexer": "ipython3",
   "version": "3.10.12"
  }
 },
 "nbformat": 4,
 "nbformat_minor": 2
}
